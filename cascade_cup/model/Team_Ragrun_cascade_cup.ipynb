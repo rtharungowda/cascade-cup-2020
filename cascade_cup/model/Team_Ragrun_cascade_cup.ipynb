{
 "cells": [
  {
   "cell_type": "code",
   "execution_count": null,
   "metadata": {},
   "outputs": [],
   "source": [
    "import pandas as pd\n",
    "from sklearn.preprocessing import StandardScaler\n",
    "import xgboost as xgb\n",
    "from sklearn.model_selection import train_test_split\n",
    "from sklearn.metrics import f1_score, accuracy_score\n",
    "import numpy as np\n",
    "import time\n"
   ]
  },
  {
   "cell_type": "code",
   "execution_count": null,
   "metadata": {},
   "outputs": [],
   "source": [
    "from imblearn.over_sampling import SMOTE"
   ]
  },
  {
   "cell_type": "code",
   "execution_count": null,
   "metadata": {
    "_cell_guid": "79c7e3d0-c299-4dcb-8224-4455121ee9b0",
    "_uuid": "d629ff2d2480ee46fbb7e2d37f6b5fab8052498a"
   },
   "outputs": [],
   "source": [
    "#load data\n",
    "train_csv = pd.read_csv('/home/tharun/Downloads/cascade_cup/train_age_dataset.csv')\n",
    "test_csv = pd.read_csv('/home/tharun/Downloads/cascade_cup/test_age_dataset.csv')\n",
    "sample_submission = pd.read_csv('/home/tharun/Downloads/cascade_cup/sample_submission.csv')"
   ]
  },
  {
   "cell_type": "code",
   "execution_count": null,
   "metadata": {},
   "outputs": [],
   "source": [
    "train_csv.var()\n",
    "#low var - \n",
    "# num_of_hashtags_per_action         1.493600e-04\n",
    "# emoji_count_per_action             4.154012e-04\n",
    "# num_of_comments                    9.339641e-04\n",
    "\n",
    "#high var\n",
    "# Unnamed: 0                         2.458879e+10\n",
    "# userId                             3.318461e+14\n",
    "# avgTimeSpent                       3.066408e+09\n",
    "# avgDuration                        5.895105e+03\n",
    "# avgComments                        5.851986e+01\n",
    "# avgt2                              9.643022e+05"
   ]
  },
  {
   "cell_type": "code",
   "execution_count": null,
   "metadata": {},
   "outputs": [],
   "source": [
    "test_csv.var()\n",
    "#low var\n",
    "#num_of_hashtags_per_action         2.411646e-04\n",
    "# emoji_count_per_action             3.047195e-04\n",
    "# num_of_comments                    9.694261e-04\n",
    "\n",
    "#high var\n",
    "# Unnamed: 0                         2.458759e+10\n",
    "# userId                             3.305619e+14\n",
    "# avgTimeSpent                       6.013404e+04\n",
    "# avgDuration                        5.463003e+03\n",
    "# avgComments                        2.121815e+01\n",
    "# avgt2                              8.467883e+05"
   ]
  },
  {
   "cell_type": "code",
   "execution_count": null,
   "metadata": {},
   "outputs": [],
   "source": [
    "#upsampling\n",
    "smote=SMOTE(random_state=42)"
   ]
  },
  {
   "cell_type": "code",
   "execution_count": null,
   "metadata": {},
   "outputs": [],
   "source": [
    "#data perep\n",
    "y = train_csv['age_group']\n",
    "train_csv.columns, test_csv.columns"
   ]
  },
  {
   "cell_type": "code",
   "execution_count": null,
   "metadata": {},
   "outputs": [],
   "source": [
    "#data prep\n",
    "y = np.array(train_csv.age_group.tolist())     \n",
    "train_csv = train_csv.drop(['age_group'],1)\n",
    "X = np.array(train_csv.values) "
   ]
  },
  {
   "cell_type": "code",
   "execution_count": null,
   "metadata": {},
   "outputs": [],
   "source": [
    "#smote\n",
    "X_res, y_res = smote.fit_sample(X,y)"
   ]
  },
  {
   "cell_type": "code",
   "execution_count": null,
   "metadata": {},
   "outputs": [],
   "source": [
    "len(X_res),len(X)"
   ]
  },
  {
   "cell_type": "code",
   "execution_count": null,
   "metadata": {},
   "outputs": [],
   "source": [
    "#train val split\n",
    "X_train, X_val, y_train, y_val = train_test_split(X_res, y_res, test_size=0.1, random_state=0, stratify=y_res, shuffle=True)\n",
    "\n",
    "#normalizing - scaling\n",
    "sc = StandardScaler()\n",
    "X_train = sc.fit_transform(X_train)\n",
    "X_val = sc.transform(X_val)\n",
    "test = sc.transform(test_csv.values)"
   ]
  },
  {
   "cell_type": "code",
   "execution_count": null,
   "metadata": {},
   "outputs": [],
   "source": [
    "len(X_train),len(X_train[0]),len(X_val)"
   ]
  },
  {
   "cell_type": "markdown",
   "metadata": {},
   "source": [
    "## Model training "
   ]
  },
  {
   "cell_type": "code",
   "execution_count": null,
   "metadata": {},
   "outputs": [],
   "source": [
    "#xgb params\n",
    "params_final = {'learning_rate': 0.1, 'objective': 'multi:softmax', 'max_depth': 6, 'min_child_weight': 6, 'subsample': 0.8,'num_class':5,'colsample_bytree':0.4,\n",
    " 'reg_alpha':0.05}"
   ]
  },
  {
   "cell_type": "markdown",
   "metadata": {},
   "source": [
    "dmatrix xgboost"
   ]
  },
  {
   "cell_type": "code",
   "execution_count": null,
   "metadata": {},
   "outputs": [],
   "source": [
    "start = time.time()\n",
    "#train val dmat\n",
    "xgdmat_train = xgb.DMatrix(X_train, y_train)\n",
    "xgdmat_val = xgb.DMatrix(X_val, y_val)\n",
    "#dict\n",
    "dct = {\n",
    "    xgdmat_train:'train',\n",
    "    xgdmat_val:'eval',\n",
    "    'eval_metric' : 'mlogloss'\n",
    "}\n",
    "#eval list\n",
    "evals=[(xgdmat_train, 'train'), (xgdmat_val, 'valid')]\n",
    "#training\n",
    "xgb_final = xgb.train(params_final, xgdmat_train, num_boost_round = 3000,\n",
    "                      evals=evals,early_stopping_rounds=100,evals_result=dct ,verbose_eval=5)\n",
    "print(time.time()-start)"
   ]
  },
  {
   "cell_type": "markdown",
   "metadata": {},
   "source": [
    "## Run for pred and sub"
   ]
  },
  {
   "cell_type": "code",
   "execution_count": null,
   "metadata": {},
   "outputs": [],
   "source": [
    "#test dmat\n",
    "xgdmat_test = xgb.DMatrix(test)"
   ]
  },
  {
   "cell_type": "code",
   "execution_count": null,
   "metadata": {},
   "outputs": [],
   "source": [
    "#predictions on val n train\n",
    "y_val_pred = xgb_final.predict(xgdmat_val)\n",
    "y_train_pred = xgb_final.predict(xgdmat_train)"
   ]
  },
  {
   "cell_type": "code",
   "execution_count": null,
   "metadata": {},
   "outputs": [],
   "source": [
    "#prediction on test\n",
    "prediction = xgb_final.predict(xgdmat_test)"
   ]
  },
  {
   "cell_type": "code",
   "execution_count": null,
   "metadata": {},
   "outputs": [],
   "source": [
    "#print score\n",
    "f1sc = f1_score(y_val,y_val_pred,average='weighted')\n",
    "print('f1 validation score ',f1sc)\n",
    "\n",
    "f1sc_train = f1_score(y_train,y_train_pred,average='weighted')\n",
    "print('f1 train score ',f1sc_train)"
   ]
  },
  {
   "cell_type": "code",
   "execution_count": null,
   "metadata": {},
   "outputs": [],
   "source": [
    "#modelsave\n",
    "#make submission csv file \n",
    "prediction = np.array(prediction, np.int)\n",
    "pd.DataFrame(prediction, columns=['prediction']).to_csv('prediction80988.csv')"
   ]
  },
  {
   "cell_type": "code",
   "execution_count": null,
   "metadata": {},
   "outputs": [],
   "source": [
    "#save model\n",
    "xgb_final.save_model(\"xgbmodel__fe2d\")"
   ]
  }
 ],
 "metadata": {
  "kernelspec": {
   "display_name": "Python 3",
   "language": "python",
   "name": "python3"
  },
  "language_info": {
   "codemirror_mode": {
    "name": "ipython",
    "version": 3
   },
   "file_extension": ".py",
   "mimetype": "text/x-python",
   "name": "python",
   "nbconvert_exporter": "python",
   "pygments_lexer": "ipython3",
   "version": "3.8.5"
  }
 },
 "nbformat": 4,
 "nbformat_minor": 4
}
